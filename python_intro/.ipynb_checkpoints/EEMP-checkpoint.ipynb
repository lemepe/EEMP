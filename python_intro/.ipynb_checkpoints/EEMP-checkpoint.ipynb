{
 "cells": [
  {
   "cell_type": "markdown",
   "metadata": {},
   "source": [
    "# EEMP - Introduction to Python for Data Analysis\n",
    "\n",
    "This is an introductory course to python, that gives you a background in packages needed for data analysis and introduces you to the most basic commands to start with. There will be more commands used and practiced throughout the course.\n",
    "\n",
    "**Organizational issues**\n",
    "\n",
    "- 3 python introductory sessions:\n",
    "\n",
    "\n",
    "    - 07/10/2019, 14:00 - 15:30\n",
    "    - 07/10/2019, 16:00 - 17:30\n",
    "    - 08/10/2019, 10:00 - 11:30\n",
    "\n",
    "\n",
    "- all materials can be found in my github:\n",
    "\n",
    "    https://github.com/lemepe/EEMP\n",
    "    \n",
    "    \n",
    "- We will be working with mainly two tools within this course\n",
    "\n",
    "    - Python (version 3.7.3)\n",
    "    - Jupyter notebook"
   ]
  },
  {
   "cell_type": "markdown",
   "metadata": {},
   "source": [
    "*Let's set the scene for working with python and jupyter notebook:*\n",
    "\n",
    "**Step 1:** install a python distribution and the respective packages\n",
    "\n",
    " - we will be using Anaconda https://www.anaconda.com/\n",
    " - install the required packages (in this order): numpy, pandas, statsmodels, matplotlib, seaborn, scikit-learn\n",
    "        - open Anaconda/Environments -> create a new environment and install the respective packages in Anaconda\n",
    "        - command line: conda create --name *env_name* \n",
    "                        conda install -c anaconda numpy pandas statsmodels seaborn scikit-learn\n",
    "                        \n",
    "                        .. check installed packages with:\n",
    "                        conda list\n",
    "                      \n",
    "**Step 2:** open a jupyter notebook\n",
    "\n",
    " - with Anaconda\n",
    " - command line: jupyter notebook"
   ]
  },
  {
   "cell_type": "markdown",
   "metadata": {},
   "source": [
    "# 8 Reasons Why You Should Learn Python\n",
    "\n",
    "1. Consistently ranks among the most popular programming languages with a promising future\n",
    "2. First-class tool for scientific computing tasks, especially for large datasets\n",
    "3. Straightforward sytnax and easy to learn\n",
    "4. Very versatile and highly compatible\n",
    "5. Free of charge since it is open source\n",
    "6. Comprehensive standard libraries with large ecosystem of third-party packages\n",
    "7. State-of-the-art for machine learning and data science in general\n",
    "8. Great amount of resources and welcoming community"
   ]
  },
  {
   "cell_type": "markdown",
   "metadata": {},
   "source": [
    "---\n",
    "## Short Introduction to Jupyter Notebook\n",
    "\n",
    "- open source web application\n",
    "    - works with your browser of choice (chrome, firefox, safari)\n",
    "- interactive computing environment\n",
    "- great tool to create and share documents that combine live code, visualizations, equations, text, images, videos etc.\n",
    "- allows to work interactively\n",
    "- check http://www.jupyter.org\n",
    "\n",
    "### Jupyter Basics\n",
    "\n",
    "Notebook cells can have 2 different modes:\n",
    " - edit mode (green cell border -> Enter)\n",
    " - command mode (blue cell border -> Shift + Enter)\n",
    "\n",
    "and types:\n",
    " - markdown cell for narrative text, LaTex style formulas, weblinks, pictures etc. (command mode -> m)\n",
    " - code cell (command mode -> y)\n",
    "     - chosen kernel defines active programming language (don't worry about this, we will only be using the Python kernel)\n",
    "     \n",
    "### First Steps with Jupyter:\n",
    " 1. Take the User Interface Tour (Help -> User Interface Tour)\n",
    " 2. Check keyboard shortcuts (Help -> Keyboard Shortcuts)\n",
    " 3. If you want to know more about jupyter there are many online resources which give you a more detailed introduction (e.g. Jupyter documentation https://jupyter-notebook.readthedocs.io/en/stable/, blogs, Youtube Tutorials etc.) \n",
    "     \n",
    "---"
   ]
  },
  {
   "cell_type": "markdown",
   "metadata": {},
   "source": [
    "*Let's get started with Python...*"
   ]
  },
  {
   "cell_type": "markdown",
   "metadata": {},
   "source": [
    "## 1. Datatypes and Operators\n",
    "\n",
    "### Datatypes:\n",
    "\n",
    "- integers\n",
    "- floats (decimal number)\n",
    "- strings (\"text\")\n",
    "- booleans (TRUE/FALSE)"
   ]
  },
  {
   "cell_type": "code",
   "execution_count": null,
   "metadata": {},
   "outputs": [],
   "source": [
    "# integers\n",
    "a = 10\n",
    "b = 4\n",
    "\n",
    "print(a)\n",
    "print(type(a))\n",
    "(a+b)*3"
   ]
  },
  {
   "cell_type": "code",
   "execution_count": null,
   "metadata": {},
   "outputs": [],
   "source": [
    "# want to know more about a function and how to use it? - use the help() function or internet search\n",
    "help(print)\n",
    "help(type)"
   ]
  },
  {
   "cell_type": "code",
   "execution_count": null,
   "metadata": {},
   "outputs": [],
   "source": [
    "# floats\n",
    "c = 1.5\n",
    "d = 28.0\n",
    "\n",
    "print(type(d))\n",
    "c*d"
   ]
  },
  {
   "cell_type": "code",
   "execution_count": 71,
   "metadata": {},
   "outputs": [
    {
     "name": "stdout",
     "output_type": "stream",
     "text": [
      "<class 'str'>\n",
      "What is the answer to life, to the universe and everything?42\n",
      "What is the answer to life, to the universe and everything?  -  42\n",
      "What is the answer to life, to the universe and everything? - 42\n"
     ]
    }
   ],
   "source": [
    "# strings\n",
    "\n",
    "question = \"What is the answer to life, to the universe and everything?\" # either denote with \"\"\n",
    "answer = '42' # .. or ''\n",
    "\n",
    "print(type(question))\n",
    "\n",
    "question_answer= question + answer # strings can be added too!\n",
    "\n",
    "print(question_answer)\n",
    "\n",
    "print(question,\" - \",answer)\n",
    "print(question + ' - ' + answer)"
   ]
  },
  {
   "cell_type": "code",
   "execution_count": 66,
   "metadata": {},
   "outputs": [
    {
     "name": "stdout",
     "output_type": "stream",
     "text": [
      "True\n",
      "False\n",
      "False\n",
      "2\n"
     ]
    }
   ],
   "source": [
    "# Booleans and True/False - Operators\n",
    "\n",
    "\n",
    "print(True==1) # True is encoded as 1\n",
    "print(False==1) # False is encoded as 0\n",
    "\n",
    "print(not True) # we can inverse a boolean with \"not\"\n",
    "print(True + True) # We can also add booleans"
   ]
  },
  {
   "cell_type": "code",
   "execution_count": 67,
   "metadata": {},
   "outputs": [
    {
     "name": "stdout",
     "output_type": "stream",
     "text": [
      "True\n",
      "True\n",
      "False\n",
      "True\n"
     ]
    }
   ],
   "source": [
    "# we can evaluate the truth of a statement with the different operators ==,!=,>,<,>=,<=, no\n",
    "# -> the output is always a boolean\n",
    "\n",
    "print(True > False)\n",
    "print(answer == '42')\n",
    "print(4 >= 5)\n",
    "print(10 != 0)"
   ]
  },
  {
   "cell_type": "code",
   "execution_count": 78,
   "metadata": {},
   "outputs": [
    {
     "name": "stdout",
     "output_type": "stream",
     "text": [
      "This is the answer to life, to the universe and everything.\n"
     ]
    }
   ],
   "source": [
    "# If-statements can be used to execute code only if a certain condition is fulfilled\n",
    "\n",
    "answer = '42'\n",
    "\n",
    "# identation after if-condition needed (convention is to indent with 4 spaces)\n",
    "if answer == \"42\":\n",
    "    print(\"This is the answer to life, to the universe and everything.\")"
   ]
  },
  {
   "cell_type": "code",
   "execution_count": 82,
   "metadata": {},
   "outputs": [
    {
     "name": "stdout",
     "output_type": "stream",
     "text": [
      "This is not the answer to life, to the universe and everything.\n"
     ]
    }
   ],
   "source": [
    "# we can also include additional conditions\n",
    "\n",
    "answer = '1'\n",
    "\n",
    "if answer == \"42\":\n",
    "    print(\"This is the answer to life, to the universe and everything.\")\n",
    "elif answer == \"41\":\n",
    "    print(\"This is nearly the answer to life, to the universe and everything.\")\n",
    "else:\n",
    "    print(\"This is not the answer to life, to the universe and everything.\")"
   ]
  },
  {
   "cell_type": "markdown",
   "metadata": {},
   "source": [
    "## 2. Python Lists\n",
    "\n",
    "- standard mutable multi-element container in Python\n",
    "- denoted by squared brackets [ ]"
   ]
  },
  {
   "cell_type": "code",
   "execution_count": 48,
   "metadata": {},
   "outputs": [
    {
     "name": "stdout",
     "output_type": "stream",
     "text": [
      "[0, 1, 2, 3, 4, 5, 6, 7, 8, 9] <class 'int'>\n",
      "['0', '1', '2', '3', '4', '5', '6', '7', '8', '9'] <class 'str'>\n",
      "[1.2, 42, 'Yes', True]\n",
      "[<class 'float'>, <class 'int'>, <class 'str'>, <class 'bool'>]\n"
     ]
    }
   ],
   "source": [
    "# Python lists can contain integers...\n",
    "\n",
    "l1 = list(range(10))\n",
    "print(l1, type(l1[0]))\n",
    "\n",
    "# ...strings\n",
    "\n",
    "l2 = list(str(i) for i in l1)\n",
    "print(l2, type(l2[0]))\n",
    "\n",
    "\n",
    "# ... or a combination of different data types.\n",
    "\n",
    "l3 = [1.2,42,'Yes',True]\n",
    "print(l3)\n",
    "print([type(i) for i in l3])"
   ]
  },
  {
   "cell_type": "code",
   "execution_count": 104,
   "metadata": {},
   "outputs": [
    {
     "name": "stdout",
     "output_type": "stream",
     "text": [
      "0\n",
      "9\n",
      "8\n",
      "[1.2, 42, 'Yes']\n"
     ]
    }
   ],
   "source": [
    "# one can also access the different elements within a list with calling its index\n",
    "\n",
    "print(l1[0]) # Python is a zero-indexed language, i.e. this would give you the first element of the list\n",
    "print(l2[-1]) # one can also access the list from the end, i.e. this would give you the last element of the list\n",
    "print(l2[-2]) # ... this the second last element\n",
    "\n",
    "print(l3[0:3]) # or slice the list and extract only a certain range"
   ]
  },
  {
   "cell_type": "markdown",
   "metadata": {},
   "source": [
    "## 3. Loops\n",
    "\n",
    "- we can loop over values in a list"
   ]
  },
  {
   "cell_type": "code",
   "execution_count": 84,
   "metadata": {},
   "outputs": [
    {
     "name": "stdout",
     "output_type": "stream",
     "text": [
      "The answer to life is 42.\n",
      "The answer to the univers is 42.\n",
      "The answer to everything is 42.\n"
     ]
    }
   ],
   "source": [
    "for item in ['life','the universe','everything']:\n",
    "    print('The answer to',item,'is 42.')"
   ]
  },
  {
   "cell_type": "code",
   "execution_count": 89,
   "metadata": {},
   "outputs": [
    {
     "name": "stdout",
     "output_type": "stream",
     "text": [
      "[0, 2, 4, 6, 8]\n",
      "0\n",
      "2\n",
      "6\n",
      "12\n",
      "20\n"
     ]
    }
   ],
   "source": [
    "even_number = list(range(0,10,2)) # check help(range) to find out about the options within the function\n",
    "\n",
    "print(even_number)\n",
    "\n",
    "result = 0\n",
    "for number in even_number:\n",
    "    result += number # this is the inplace version of reassigning result = result + number, the outcome is identical\n",
    "    print(result)"
   ]
  },
  {
   "cell_type": "markdown",
   "metadata": {},
   "source": [
    "## 4. Functions \n",
    "\n",
    "- Python is also suitable for writing functions\n",
    "- Very good for operations that are done repeatedly, but have no built-in functions\n",
    "- However, whenever there are built-in functions always use those; they are usually computationally more efficient\n",
    "- We will give you a short idea of what a function means and how it looks like, but writing functions is not the focus of the course"
   ]
  },
  {
   "cell_type": "code",
   "execution_count": 90,
   "metadata": {},
   "outputs": [],
   "source": [
    "def f(x):\n",
    "    '''This function squares its numerical input'''\n",
    "    return x**2"
   ]
  },
  {
   "cell_type": "code",
   "execution_count": 95,
   "metadata": {},
   "outputs": [
    {
     "data": {
      "text/plain": [
       "9"
      ]
     },
     "execution_count": 95,
     "metadata": {},
     "output_type": "execute_result"
    }
   ],
   "source": [
    "f(3)"
   ]
  },
  {
   "cell_type": "markdown",
   "metadata": {},
   "source": [
    "## 5. Libraries "
   ]
  },
  {
   "cell_type": "markdown",
   "metadata": {},
   "source": [
    "### 5.1 NumPy Library \n",
    "\n",
    "*Provides numeric vector and matrix operations*\n",
    "\n",
    "- NumPy's \"ndarray\" is another of the basic formats data can be stored in\n",
    "- Similar to python built-in lists (see 2.), but lack its multi-type flexibility, i.e. can only contain one data type\n",
    "- However, in contrast to lists, ndarrays are more efficient in storing and manipulating data, which is important as data become bigger\n",
    "- Building blocks for many other packages (see 5.2)"
   ]
  },
  {
   "cell_type": "code",
   "execution_count": 109,
   "metadata": {},
   "outputs": [],
   "source": [
    "# Before we can use a package the first time, we need to import it (given we have it already installed)\n",
    "# the \"as np\" indicates the alias we can use to call the package from now on\n",
    "import numpy as np"
   ]
  },
  {
   "cell_type": "code",
   "execution_count": 119,
   "metadata": {},
   "outputs": [
    {
     "name": "stdout",
     "output_type": "stream",
     "text": [
      "[ 0  1  5 15  2] <class 'numpy.ndarray'>\n",
      "[0 1 2 3 4]\n",
      "[ 0  2  7 18  6]\n"
     ]
    }
   ],
   "source": [
    "# ndarrays\n",
    "array1 = np.array([0,1,5,15,2])\n",
    "print(array1, type(array1))\n",
    "\n",
    "array2 = np.arange(5)\n",
    "print(array2)\n",
    "\n",
    "array3 = array1 + array2 # ndarrays can also be added to each other\n",
    "print(array3)"
   ]
  },
  {
   "cell_type": "code",
   "execution_count": 129,
   "metadata": {},
   "outputs": [
    {
     "name": "stdout",
     "output_type": "stream",
     "text": [
      "[[1 0]\n",
      " [0 1]] <class 'numpy.ndarray'>\n",
      "[[ 0  1  5 15  2]\n",
      " [ 0  1  2  3  4]\n",
      " [ 0  3 12 33  8]]\n",
      "[[ 0  2 10 30  4]\n",
      " [ 0  2  7 18  6]\n",
      " [ 0  4 17 48 10]]\n"
     ]
    }
   ],
   "source": [
    "# we can also build matrices from ndarrays\n",
    "\n",
    "matrix1 = np.array([[1,0],[0,1]])\n",
    "print(matrix1, type(matrix1))\n",
    "\n",
    "matrix2 = np.array([array1, array2, array1 + array3])\n",
    "print(matrix2)\n",
    "\n",
    "matrix3 = matrix2 + array1\n",
    "print(matrix3)"
   ]
  },
  {
   "cell_type": "code",
   "execution_count": 141,
   "metadata": {},
   "outputs": [
    {
     "name": "stdout",
     "output_type": "stream",
     "text": [
      "[[ 0  0  0]\n",
      " [ 1  1  3]\n",
      " [ 5  2 12]\n",
      " [15  3 33]\n",
      " [ 2  4  8]]\n",
      "(5, 3)\n"
     ]
    }
   ],
   "source": [
    "# and then work with these arrays and matrices using numpy methods and functions\n",
    "\n",
    "matrix2_t = matrix2.transpose()\n",
    "print(matrix2_t)\n",
    "print(np.shape(matrix2_t)) # gives you a 5x3 matrix from the original 3x5 matrix"
   ]
  },
  {
   "cell_type": "code",
   "execution_count": 146,
   "metadata": {},
   "outputs": [
    {
     "name": "stdout",
     "output_type": "stream",
     "text": [
      "[0 5]\n",
      "3\n",
      "[[0 0]\n",
      " [1 1]] (2, 2)\n"
     ]
    }
   ],
   "source": [
    "# as with lists you can access elements within an array in a similar fashion\n",
    "\n",
    "print(array1[0:4:2]) # slicing scheme: array[start:stop:step]\n",
    "\n",
    "print(matrix2_t[1,2]) # takes only the index 1 row- and index 2 column-element\n",
    "print(matrix2_t[0:2,0:2], np.shape(matrix2_t[0:2,0:2])) # gives you a 2x2 matrix from the 5x3 original matrix"
   ]
  },
  {
   "cell_type": "markdown",
   "metadata": {},
   "source": [
    "### 5.2 Pandas Library\n",
    "*Provides the DataFrame, which is the building block for working with data*\n",
    "\n",
    "- Built around NumPy arrays"
   ]
  },
  {
   "cell_type": "code",
   "execution_count": 1,
   "metadata": {
    "scrolled": true
   },
   "outputs": [],
   "source": [
    "# Again, we have to import the package first...\n",
    "import pandas as pd"
   ]
  },
  {
   "cell_type": "markdown",
   "metadata": {},
   "source": [
    "*Let's read in some data...*"
   ]
  },
  {
   "cell_type": "code",
   "execution_count": 2,
   "metadata": {
    "scrolled": true
   },
   "outputs": [
    {
     "data": {
      "text/html": [
       "<div>\n",
       "<style scoped>\n",
       "    .dataframe tbody tr th:only-of-type {\n",
       "        vertical-align: middle;\n",
       "    }\n",
       "\n",
       "    .dataframe tbody tr th {\n",
       "        vertical-align: top;\n",
       "    }\n",
       "\n",
       "    .dataframe thead th {\n",
       "        text-align: right;\n",
       "    }\n",
       "</style>\n",
       "<table border=\"1\" class=\"dataframe\">\n",
       "  <thead>\n",
       "    <tr style=\"text-align: right;\">\n",
       "      <th></th>\n",
       "      <th>Age</th>\n",
       "      <th>Attrition</th>\n",
       "      <th>BusinessTravel</th>\n",
       "      <th>DailyRate</th>\n",
       "      <th>Department</th>\n",
       "      <th>DistanceFromHome</th>\n",
       "      <th>Education</th>\n",
       "      <th>EducationField</th>\n",
       "      <th>EmployeeCount</th>\n",
       "      <th>EmployeeNumber</th>\n",
       "      <th>...</th>\n",
       "      <th>RelationshipSatisfaction</th>\n",
       "      <th>StandardHours</th>\n",
       "      <th>StockOptionLevel</th>\n",
       "      <th>TotalWorkingYears</th>\n",
       "      <th>TrainingTimesLastYear</th>\n",
       "      <th>WorkLifeBalance</th>\n",
       "      <th>YearsAtCompany</th>\n",
       "      <th>YearsInCurrentRole</th>\n",
       "      <th>YearsSinceLastPromotion</th>\n",
       "      <th>YearsWithCurrManager</th>\n",
       "    </tr>\n",
       "  </thead>\n",
       "  <tbody>\n",
       "    <tr>\n",
       "      <td>0</td>\n",
       "      <td>41</td>\n",
       "      <td>Yes</td>\n",
       "      <td>Travel_Rarely</td>\n",
       "      <td>1102</td>\n",
       "      <td>Sales</td>\n",
       "      <td>1</td>\n",
       "      <td>2</td>\n",
       "      <td>Life Sciences</td>\n",
       "      <td>1</td>\n",
       "      <td>1</td>\n",
       "      <td>...</td>\n",
       "      <td>1</td>\n",
       "      <td>80</td>\n",
       "      <td>0</td>\n",
       "      <td>8</td>\n",
       "      <td>0</td>\n",
       "      <td>1</td>\n",
       "      <td>6</td>\n",
       "      <td>4</td>\n",
       "      <td>0</td>\n",
       "      <td>5</td>\n",
       "    </tr>\n",
       "    <tr>\n",
       "      <td>1</td>\n",
       "      <td>49</td>\n",
       "      <td>No</td>\n",
       "      <td>Travel_Frequently</td>\n",
       "      <td>279</td>\n",
       "      <td>Research &amp; Development</td>\n",
       "      <td>8</td>\n",
       "      <td>1</td>\n",
       "      <td>Life Sciences</td>\n",
       "      <td>1</td>\n",
       "      <td>2</td>\n",
       "      <td>...</td>\n",
       "      <td>4</td>\n",
       "      <td>80</td>\n",
       "      <td>1</td>\n",
       "      <td>10</td>\n",
       "      <td>3</td>\n",
       "      <td>3</td>\n",
       "      <td>10</td>\n",
       "      <td>7</td>\n",
       "      <td>1</td>\n",
       "      <td>7</td>\n",
       "    </tr>\n",
       "    <tr>\n",
       "      <td>2</td>\n",
       "      <td>37</td>\n",
       "      <td>Yes</td>\n",
       "      <td>Travel_Rarely</td>\n",
       "      <td>1373</td>\n",
       "      <td>Research &amp; Development</td>\n",
       "      <td>2</td>\n",
       "      <td>2</td>\n",
       "      <td>Other</td>\n",
       "      <td>1</td>\n",
       "      <td>4</td>\n",
       "      <td>...</td>\n",
       "      <td>2</td>\n",
       "      <td>80</td>\n",
       "      <td>0</td>\n",
       "      <td>7</td>\n",
       "      <td>3</td>\n",
       "      <td>3</td>\n",
       "      <td>0</td>\n",
       "      <td>0</td>\n",
       "      <td>0</td>\n",
       "      <td>0</td>\n",
       "    </tr>\n",
       "    <tr>\n",
       "      <td>3</td>\n",
       "      <td>33</td>\n",
       "      <td>No</td>\n",
       "      <td>Travel_Frequently</td>\n",
       "      <td>1392</td>\n",
       "      <td>Research &amp; Development</td>\n",
       "      <td>3</td>\n",
       "      <td>4</td>\n",
       "      <td>Life Sciences</td>\n",
       "      <td>1</td>\n",
       "      <td>5</td>\n",
       "      <td>...</td>\n",
       "      <td>3</td>\n",
       "      <td>80</td>\n",
       "      <td>0</td>\n",
       "      <td>8</td>\n",
       "      <td>3</td>\n",
       "      <td>3</td>\n",
       "      <td>8</td>\n",
       "      <td>7</td>\n",
       "      <td>3</td>\n",
       "      <td>0</td>\n",
       "    </tr>\n",
       "    <tr>\n",
       "      <td>4</td>\n",
       "      <td>27</td>\n",
       "      <td>No</td>\n",
       "      <td>Travel_Rarely</td>\n",
       "      <td>591</td>\n",
       "      <td>Research &amp; Development</td>\n",
       "      <td>2</td>\n",
       "      <td>1</td>\n",
       "      <td>Medical</td>\n",
       "      <td>1</td>\n",
       "      <td>7</td>\n",
       "      <td>...</td>\n",
       "      <td>4</td>\n",
       "      <td>80</td>\n",
       "      <td>1</td>\n",
       "      <td>6</td>\n",
       "      <td>3</td>\n",
       "      <td>3</td>\n",
       "      <td>2</td>\n",
       "      <td>2</td>\n",
       "      <td>2</td>\n",
       "      <td>2</td>\n",
       "    </tr>\n",
       "  </tbody>\n",
       "</table>\n",
       "<p>5 rows × 35 columns</p>\n",
       "</div>"
      ],
      "text/plain": [
       "   Age Attrition     BusinessTravel  DailyRate              Department  \\\n",
       "0   41       Yes      Travel_Rarely       1102                   Sales   \n",
       "1   49        No  Travel_Frequently        279  Research & Development   \n",
       "2   37       Yes      Travel_Rarely       1373  Research & Development   \n",
       "3   33        No  Travel_Frequently       1392  Research & Development   \n",
       "4   27        No      Travel_Rarely        591  Research & Development   \n",
       "\n",
       "   DistanceFromHome  Education EducationField  EmployeeCount  EmployeeNumber  \\\n",
       "0                 1          2  Life Sciences              1               1   \n",
       "1                 8          1  Life Sciences              1               2   \n",
       "2                 2          2          Other              1               4   \n",
       "3                 3          4  Life Sciences              1               5   \n",
       "4                 2          1        Medical              1               7   \n",
       "\n",
       "   ...  RelationshipSatisfaction StandardHours  StockOptionLevel  \\\n",
       "0  ...                         1            80                 0   \n",
       "1  ...                         4            80                 1   \n",
       "2  ...                         2            80                 0   \n",
       "3  ...                         3            80                 0   \n",
       "4  ...                         4            80                 1   \n",
       "\n",
       "   TotalWorkingYears  TrainingTimesLastYear WorkLifeBalance  YearsAtCompany  \\\n",
       "0                  8                      0               1               6   \n",
       "1                 10                      3               3              10   \n",
       "2                  7                      3               3               0   \n",
       "3                  8                      3               3               8   \n",
       "4                  6                      3               3               2   \n",
       "\n",
       "  YearsInCurrentRole  YearsSinceLastPromotion  YearsWithCurrManager  \n",
       "0                  4                        0                     5  \n",
       "1                  7                        1                     7  \n",
       "2                  0                        0                     0  \n",
       "3                  7                        3                     0  \n",
       "4                  2                        2                     2  \n",
       "\n",
       "[5 rows x 35 columns]"
      ]
     },
     "execution_count": 2,
     "metadata": {},
     "output_type": "execute_result"
    }
   ],
   "source": [
    "path_to_data = \"https://raw.githubusercontent.com/lemepe/EEMP/master/python_intro/Employee_data.csv\"\n",
    "employee_data = pd.read_csv(path_to_data)\n",
    "employee_data.head() # by default this gives you the first 5 observations in the dataframe"
   ]
  },
  {
   "cell_type": "code",
   "execution_count": 32,
   "metadata": {},
   "outputs": [
    {
     "name": "stdout",
     "output_type": "stream",
     "text": [
      "    Age              Department\n",
      "0    41                   Sales\n",
      "2    37  Research & Development\n",
      "14   28  Research & Development\n",
      "21   36                   Sales\n",
      "24   34  Research & Development\n",
      "26   32  Research & Development\n",
      "33   39                   Sales\n",
      "34   24  Research & Development\n",
      "36   50                   Sales\n",
      "42   26  Research & Development\n"
     ]
    }
   ],
   "source": [
    "# Slicing by indices\n",
    "\n",
    "employee_data.iloc[0:100] # extract first 100 observations [check .loc() for indices that are strings]\n",
    "employee_data.iloc[0:100,0:2] # sliced both row- and columnwise\n",
    "\n",
    "exit_data = employee_data.loc[employee_data['Attrition']=='Yes']\n",
    "print(exit_data.iloc[:,[0,4]].head(10))"
   ]
  },
  {
   "cell_type": "code",
   "execution_count": 33,
   "metadata": {},
   "outputs": [
    {
     "name": "stdout",
     "output_type": "stream",
     "text": [
      "Research & Development    0.561181\n",
      "Sales                     0.388186\n",
      "Human Resources           0.050633\n",
      "Name: Department, dtype: float64\n",
      "33.607594936708864\n",
      "Department\n",
      "Human Resources           30.083333\n",
      "Research & Development    33.473684\n",
      "Sales                     34.260870\n",
      "Name: Age, dtype: float64\n",
      "36.923809523809524\n"
     ]
    }
   ],
   "source": [
    "# Descriptives statistics\n",
    "\n",
    "# Distribution of exits across departments\n",
    "print(exit_data['Department'].value_counts(normalize=True))\n",
    "\n",
    "# Mean age of exits\n",
    "mean_age_exited = exit_data['Age'].mean()\n",
    "print(mean_age)\n",
    "\n",
    "# Mean age of exits across departments\n",
    "mean_age_exited_by_dep = exit_data['Age'].groupby(exit_data['Department']).mean()\n",
    "print(mean_age_by_dep)\n",
    "\n",
    "# Mean age across all employees\n",
    "mean_age = employee_data['Age'].mean()\n",
    "print(mean_age)"
   ]
  },
  {
   "cell_type": "code",
   "execution_count": null,
   "metadata": {},
   "outputs": [],
   "source": []
  },
  {
   "cell_type": "code",
   "execution_count": null,
   "metadata": {},
   "outputs": [],
   "source": []
  },
  {
   "cell_type": "code",
   "execution_count": null,
   "metadata": {},
   "outputs": [],
   "source": []
  },
  {
   "cell_type": "code",
   "execution_count": null,
   "metadata": {},
   "outputs": [],
   "source": []
  },
  {
   "cell_type": "markdown",
   "metadata": {},
   "source": [
    "### 5.3 Maplotlib and Seaborn Libraries\n",
    "*Provide plotting and visualization support*"
   ]
  },
  {
   "cell_type": "code",
   "execution_count": null,
   "metadata": {},
   "outputs": [],
   "source": [
    "import matplotlib as plt\n",
    "import seaborn as sns"
   ]
  },
  {
   "cell_type": "code",
   "execution_count": null,
   "metadata": {},
   "outputs": [],
   "source": [
    "%lsmagic"
   ]
  },
  {
   "cell_type": "code",
   "execution_count": null,
   "metadata": {},
   "outputs": [],
   "source": [
    "%pwd"
   ]
  },
  {
   "cell_type": "code",
   "execution_count": null,
   "metadata": {},
   "outputs": [],
   "source": [
    "%ls"
   ]
  },
  {
   "cell_type": "markdown",
   "metadata": {},
   "source": [
    "### 5.4 Statsmodels Library\n",
    "*Provides many different statistical models, statistical tests, and statistical data exploration*"
   ]
  },
  {
   "cell_type": "code",
   "execution_count": null,
   "metadata": {},
   "outputs": [],
   "source": []
  },
  {
   "cell_type": "markdown",
   "metadata": {},
   "source": [
    "### 5.5 Scikit-learn Library\n",
    "*Provides general purpose machine learning package with extensive coverage of models and feature transformers*"
   ]
  },
  {
   "cell_type": "code",
   "execution_count": null,
   "metadata": {},
   "outputs": [],
   "source": []
  },
  {
   "cell_type": "markdown",
   "metadata": {},
   "source": [
    "# 6. References and Further Readings\n",
    "\n",
    "- VanderPlas, Jake (2016): Python Data Science Handbook: Essential Tools for Working with Data. O'Reilly Media.\n",
    "- Adams, Douglas (2008): The Hitchhiker's Guide to the Galaxy. Reclam."
   ]
  },
  {
   "cell_type": "code",
   "execution_count": null,
   "metadata": {},
   "outputs": [],
   "source": []
  }
 ],
 "metadata": {
  "kernelspec": {
   "display_name": "Python 3",
   "language": "python",
   "name": "python3"
  },
  "language_info": {
   "codemirror_mode": {
    "name": "ipython",
    "version": 3
   },
   "file_extension": ".py",
   "mimetype": "text/x-python",
   "name": "python",
   "nbconvert_exporter": "python",
   "pygments_lexer": "ipython3",
   "version": "3.7.3"
  }
 },
 "nbformat": 4,
 "nbformat_minor": 2
}
