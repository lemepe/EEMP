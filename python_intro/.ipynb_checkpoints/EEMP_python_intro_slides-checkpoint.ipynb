{
 "cells": [
  {
   "cell_type": "markdown",
   "metadata": {
    "slideshow": {
     "slide_type": "slide"
    }
   },
   "source": [
    "# EEMP - Introduction to Python for Data Analysis\n",
    "\n",
    "- Introductory course to working with python for data analysis\n",
    "- Goals:\n",
    "    - Overview of basic data structures and commands in python\n",
    "    - Essential toolkit for data analysis in python, giving you a background in packages needed\n",
    "    - By no means exhaustive, but should enable you to continue learning by yourself\n",
    "- More commands will be introduced and practiced throughout the course"
   ]
  },
  {
   "cell_type": "markdown",
   "metadata": {
    "slideshow": {
     "slide_type": "slide"
    }
   },
   "source": [
    "# Organizational issues\n",
    "\n",
    "- 3 python introductory sessions:\n",
    "\n",
    "\n",
    "    - 07/10/2019, 14:00 - 15:30\n",
    "    - 07/10/2019, 16:00 - 17:30\n",
    "    - 08/10/2019, 10:00 - 11:30\n",
    "\n",
    "\n",
    "- all materials can be found in the course's github page:\n",
    "\n",
    "    https://github.com/jeshan49/EEMP2019"
   ]
  },
  {
   "cell_type": "markdown",
   "metadata": {
    "slideshow": {
     "slide_type": "slide"
    }
   },
   "source": [
    "We will be working with mainly two tools within this course\n",
    "\n",
    "- Python (version 3.7.3)\n",
    "- Jupyter notebook\n",
    "  \n",
    "  \n",
    "  \n",
    "*... Let's set the scene for working with python and jupyter notebook.*"
   ]
  },
  {
   "cell_type": "markdown",
   "metadata": {
    "slideshow": {
     "slide_type": "slide"
    }
   },
   "source": [
    "**Step 1:** install a python distribution and the respective packages\n",
    "\n",
    " - we will be using Anaconda https://www.anaconda.com/\n",
    " - install the required packages (in this order: numpy, pandas, statsmodels, matplotlib, seaborn, scikit-learn)\n",
    "     - open Anaconda/Environments\n",
    "        - check whether respective packages already installed, if not install.\n",
    "        - *command line*: conda install -c anaconda numpy pandas statsmodels seaborn scikit-learn\n",
    "            - check installed packages with: conda list"
   ]
  },
  {
   "cell_type": "markdown",
   "metadata": {
    "slideshow": {
     "slide_type": "slide"
    }
   },
   "source": [
    "**Step 2:** open a jupyter notebook\n",
    "\n",
    " - with Anaconda\n",
    " - *command line*: jupyter notebook"
   ]
  },
  {
   "cell_type": "markdown",
   "metadata": {
    "slideshow": {
     "slide_type": "slide"
    }
   },
   "source": [
    "# 8 Reasons Why You Should Learn Python\n",
    "\n",
    "1. Consistently ranks among the most popular programming languages with a promising future\n",
    "2. First-class tool for scientific computing tasks, especially for large datasets\n",
    "3. Straightforward sytnax and easy to learn\n",
    "4. Very versatile and highly compatible\n",
    "5. Free of charge since it is open source\n",
    "6. Comprehensive standard libraries with large ecosystem of third-party packages\n",
    "7. State-of-the-art for machine learning and data science in general\n",
    "8. Great amount of resources and welcoming community"
   ]
  },
  {
   "cell_type": "markdown",
   "metadata": {
    "slideshow": {
     "slide_type": "slide"
    }
   },
   "source": [
    "## Short Introduction to Jupyter Notebook\n",
    "\n",
    "- open source web application\n",
    "    - works with your browser of choice (chrome, firefox, safari)\n",
    "- interactive computing environment\n",
    "- great tool to create and share documents that combine live code, visualizations, equations, text, images, videos etc.\n",
    "- allows to work interactively\n",
    "- check http://www.jupyter.org"
   ]
  },
  {
   "cell_type": "markdown",
   "metadata": {
    "slideshow": {
     "slide_type": "slide"
    }
   },
   "source": [
    "### Jupyter Basics\n",
    "\n",
    "Notebook cells can have 2 different modes:\n",
    " - edit mode (green cell border -> Enter)\n",
    " - command mode (blue cell border -> Shift + Enter)"
   ]
  },
  {
   "cell_type": "markdown",
   "metadata": {
    "slideshow": {
     "slide_type": "slide"
    }
   },
   "source": [
    "... and different types:\n",
    " - markdown cell for narrative text, LaTex style formulas, weblinks, pictures etc. (command mode -> m)\n",
    " - code cell (command mode -> y)\n",
    "     - chosen kernel defines active programming language (don't worry about this, we will only be using the Python kernel)"
   ]
  },
  {
   "cell_type": "markdown",
   "metadata": {
    "slideshow": {
     "slide_type": "slide"
    }
   },
   "source": [
    "### First Steps with Jupyter:\n",
    "\n",
    " 1. Take the User Interface Tour (Help -> User Interface Tour)\n",
    " 2. Check keyboard shortcuts (Help -> Keyboard Shortcuts)\n",
    " 3. If you want to know more about jupyter there are many online resources which give you a more detailed introduction (e.g. Jupyter documentation https://jupyter-notebook.readthedocs.io/en/stable/, blogs, Youtube Tutorials etc.) "
   ]
  },
  {
   "cell_type": "markdown",
   "metadata": {
    "slideshow": {
     "slide_type": "slide"
    }
   },
   "source": [
    "*Let's get started with Python...*"
   ]
  },
  {
   "cell_type": "markdown",
   "metadata": {
    "slideshow": {
     "slide_type": "slide"
    }
   },
   "source": [
    "## 1. Datatypes and Operators\n",
    "\n",
    "### Datatypes:\n",
    "\n",
    "- Integers\n",
    "- Floats (decimal number)\n",
    "- Strings (\"text\")\n",
    "- Booleans (TRUE/FALSE)"
   ]
  },
  {
   "cell_type": "code",
   "execution_count": null,
   "metadata": {
    "slideshow": {
     "slide_type": "slide"
    }
   },
   "outputs": [],
   "source": []
  },
  {
   "cell_type": "code",
   "execution_count": 1,
   "metadata": {
    "slideshow": {
     "slide_type": "slide"
    }
   },
   "outputs": [
    {
     "name": "stdout",
     "output_type": "stream",
     "text": [
      "Help on built-in function print in module builtins:\n",
      "\n",
      "print(...)\n",
      "    print(value, ..., sep=' ', end='\\n', file=sys.stdout, flush=False)\n",
      "    \n",
      "    Prints the values to a stream, or to sys.stdout by default.\n",
      "    Optional keyword arguments:\n",
      "    file:  a file-like object (stream); defaults to the current sys.stdout.\n",
      "    sep:   string inserted between values, default a space.\n",
      "    end:   string appended after the last value, default a newline.\n",
      "    flush: whether to forcibly flush the stream.\n",
      "\n"
     ]
    }
   ],
   "source": [
    "# want to know more about a function and how to use it? - use the help() function or internet search\n",
    "help(print)"
   ]
  },
  {
   "cell_type": "code",
   "execution_count": null,
   "metadata": {
    "slideshow": {
     "slide_type": "slide"
    }
   },
   "outputs": [],
   "source": [
    "# floats"
   ]
  },
  {
   "cell_type": "code",
   "execution_count": null,
   "metadata": {
    "slideshow": {
     "slide_type": "slide"
    }
   },
   "outputs": [],
   "source": [
    "# strings"
   ]
  },
  {
   "cell_type": "code",
   "execution_count": null,
   "metadata": {
    "slideshow": {
     "slide_type": "slide"
    }
   },
   "outputs": [],
   "source": [
    "# Booleans and True/False - Operators"
   ]
  },
  {
   "cell_type": "code",
   "execution_count": null,
   "metadata": {
    "slideshow": {
     "slide_type": "slide"
    }
   },
   "outputs": [],
   "source": [
    "# we can evaluate the truth of a statement with the different operators ==,!=,>,<,>=,<=, no\n",
    "# -> the output is always a boolean"
   ]
  },
  {
   "cell_type": "code",
   "execution_count": null,
   "metadata": {
    "slideshow": {
     "slide_type": "slide"
    }
   },
   "outputs": [],
   "source": [
    "# we can also combine different conditions with and, &, or"
   ]
  },
  {
   "cell_type": "code",
   "execution_count": null,
   "metadata": {
    "slideshow": {
     "slide_type": "slide"
    }
   },
   "outputs": [],
   "source": [
    "# If-statements can be used to execute code only if a certain condition is fulfilled\n",
    "# identation after if-condition needed (convention is to indent with 4 spaces)"
   ]
  },
  {
   "cell_type": "code",
   "execution_count": null,
   "metadata": {
    "slideshow": {
     "slide_type": "slide"
    }
   },
   "outputs": [],
   "source": [
    "# we can also include additional conditions"
   ]
  },
  {
   "cell_type": "markdown",
   "metadata": {
    "slideshow": {
     "slide_type": "slide"
    }
   },
   "source": [
    "## 2. Python Lists\n",
    "\n",
    "- Standard mutable multi-element container in Python\n",
    "- Denoted by squared brackets [ ]"
   ]
  },
  {
   "cell_type": "code",
   "execution_count": null,
   "metadata": {
    "slideshow": {
     "slide_type": "slide"
    }
   },
   "outputs": [],
   "source": [
    "# Python lists can contain integers...\n",
    "\n",
    "\n",
    "\n",
    "# ...strings\n",
    "\n",
    "\n",
    "\n",
    "# ... or a combination of different data types.\n",
    "\n"
   ]
  },
  {
   "cell_type": "code",
   "execution_count": null,
   "metadata": {
    "slideshow": {
     "slide_type": "slide"
    }
   },
   "outputs": [],
   "source": [
    "# one can also access the different elements within a list with calling its index\n"
   ]
  },
  {
   "cell_type": "markdown",
   "metadata": {
    "slideshow": {
     "slide_type": "slide"
    }
   },
   "source": [
    "## 3. Loops\n",
    "\n",
    "- We can loop over values in a list"
   ]
  },
  {
   "cell_type": "code",
   "execution_count": null,
   "metadata": {
    "slideshow": {
     "slide_type": "slide"
    }
   },
   "outputs": [],
   "source": []
  },
  {
   "cell_type": "markdown",
   "metadata": {
    "slideshow": {
     "slide_type": "slide"
    }
   },
   "source": [
    "## 4. Functions \n",
    "\n",
    "- Python is also suitable for writing functions\n",
    "- Very good for operations that are done repeatedly, but have no built-in functions\n",
    "- However, whenever there are built-in functions always use those; they are usually computationally more efficient\n",
    "- We will give you a short idea of what a function means and how it looks like, but writing functions is not the focus of the course"
   ]
  },
  {
   "cell_type": "code",
   "execution_count": null,
   "metadata": {
    "slideshow": {
     "slide_type": "slide"
    }
   },
   "outputs": [],
   "source": []
  },
  {
   "cell_type": "markdown",
   "metadata": {
    "slideshow": {
     "slide_type": "slide"
    }
   },
   "source": [
    "## 5. Libraries \n",
    "### 5.1 NumPy Library \n",
    "\n",
    "*Provides numeric vector and matrix operations*\n",
    "\n",
    "- NumPy's \"ndarray\" is another of the basic formats data can be stored in\n",
    "- Similar to python built-in lists (see 2.), but lack its multi-type flexibility, i.e. can only contain one data type\n",
    "- However, in contrast to lists, ndarrays are more efficient in storing and manipulating data, which is important as data become bigger\n",
    "- Building blocks for many other packages (see 5.2)"
   ]
  },
  {
   "cell_type": "code",
   "execution_count": null,
   "metadata": {
    "slideshow": {
     "slide_type": "slide"
    }
   },
   "outputs": [],
   "source": [
    "# Before we can use a package the first time, we need to import it (given we have it already installed)"
   ]
  },
  {
   "cell_type": "code",
   "execution_count": null,
   "metadata": {
    "slideshow": {
     "slide_type": "slide"
    }
   },
   "outputs": [],
   "source": [
    "# ndarrays"
   ]
  },
  {
   "cell_type": "code",
   "execution_count": null,
   "metadata": {
    "slideshow": {
     "slide_type": "slide"
    }
   },
   "outputs": [],
   "source": [
    "# we can also build matrices from ndarrays"
   ]
  },
  {
   "cell_type": "code",
   "execution_count": null,
   "metadata": {
    "slideshow": {
     "slide_type": "slide"
    }
   },
   "outputs": [],
   "source": [
    "# and then work with these arrays and matrices using numpy methods and functions"
   ]
  },
  {
   "cell_type": "code",
   "execution_count": null,
   "metadata": {
    "slideshow": {
     "slide_type": "slide"
    }
   },
   "outputs": [],
   "source": [
    "# as with lists you can access elements within an array in a similar fashion"
   ]
  },
  {
   "cell_type": "markdown",
   "metadata": {
    "slideshow": {
     "slide_type": "slide"
    }
   },
   "source": [
    "### 5.2 Pandas Library\n",
    "*Provides the DataFrame, which is the building block for working with data*\n",
    "\n",
    "- Newer package built on top of NumPy\n",
    "- A Series is the Pandas equivalent to a NumPy array\n",
    "    - However, Series (and DataFrames) have explicitly defined row (and column) labels attached as compared to implicitly defined simple integer indices in NumPy\n",
    "- A DataFrame is a 2-dimensional multi-array data structure, i.e. consist of multiple series\n",
    "- Often contain heterogenous types and/or missing values"
   ]
  },
  {
   "cell_type": "code",
   "execution_count": null,
   "metadata": {
    "scrolled": true,
    "slideshow": {
     "slide_type": "slide"
    }
   },
   "outputs": [],
   "source": [
    "# Again, we have to import the package first..."
   ]
  },
  {
   "cell_type": "code",
   "execution_count": null,
   "metadata": {
    "slideshow": {
     "slide_type": "slide"
    }
   },
   "outputs": [],
   "source": [
    "# A series is a one-dimensional array of indexed data"
   ]
  },
  {
   "cell_type": "code",
   "execution_count": null,
   "metadata": {
    "slideshow": {
     "slide_type": "slide"
    }
   },
   "outputs": [],
   "source": [
    "# However, indices don't need to be numerical, but could also be strings..."
   ]
  },
  {
   "cell_type": "code",
   "execution_count": 2,
   "metadata": {
    "scrolled": true,
    "slideshow": {
     "slide_type": "slide"
    }
   },
   "outputs": [],
   "source": [
    "# Now, let's read in an actual dataset with several columns and numerous rows, and start working with DataFrames...\n",
    "\n",
    "path_to_data = \"https://raw.githubusercontent.com/lemepe/EEMP/master/python_intro/Employee_data.csv\""
   ]
  },
  {
   "cell_type": "markdown",
   "metadata": {
    "slideshow": {
     "slide_type": "slide"
    }
   },
   "source": [
    "### Commands for exploratory data analysis (EDA)"
   ]
  },
  {
   "cell_type": "code",
   "execution_count": null,
   "metadata": {
    "slideshow": {
     "slide_type": "slide"
    }
   },
   "outputs": [],
   "source": [
    "# Shape of the dataframe in form of a tuple (#rows, #cols)"
   ]
  },
  {
   "cell_type": "code",
   "execution_count": null,
   "metadata": {
    "slideshow": {
     "slide_type": "slide"
    }
   },
   "outputs": [],
   "source": [
    "# Lists all column indeces"
   ]
  },
  {
   "cell_type": "code",
   "execution_count": null,
   "metadata": {
    "slideshow": {
     "slide_type": "slide"
    }
   },
   "outputs": [],
   "source": [
    "# Overview of columns, non-null entries & datatypes"
   ]
  },
  {
   "cell_type": "code",
   "execution_count": null,
   "metadata": {
    "slideshow": {
     "slide_type": "slide"
    }
   },
   "outputs": [],
   "source": [
    "# Summary statistics of the dataset"
   ]
  },
  {
   "cell_type": "code",
   "execution_count": null,
   "metadata": {
    "slideshow": {
     "slide_type": "slide"
    }
   },
   "outputs": [],
   "source": [
    "# To get an idea about the different values contained within a specific column, we can use the .unique() method\n",
    "# since unique takes the values in order of appearance, we use the sorted function on top of it\n",
    "# with [] and the respective column label, we can access this particular Series in the DataFrame"
   ]
  },
  {
   "cell_type": "code",
   "execution_count": null,
   "metadata": {
    "slideshow": {
     "slide_type": "slide"
    }
   },
   "outputs": [],
   "source": [
    "# If we want to know more about the distribution of certain values or categories, we can use value_counts()"
   ]
  },
  {
   "cell_type": "code",
   "execution_count": null,
   "metadata": {
    "slideshow": {
     "slide_type": "slide"
    }
   },
   "outputs": [],
   "source": [
    "# We can also slice the data by indices (similar to how we did it with lists or NumPy arrays)"
   ]
  },
  {
   "cell_type": "code",
   "execution_count": null,
   "metadata": {
    "slideshow": {
     "slide_type": "slide"
    }
   },
   "outputs": [],
   "source": [
    "# .. which could also be a string, as in the case of the columns"
   ]
  },
  {
   "cell_type": "code",
   "execution_count": null,
   "metadata": {
    "slideshow": {
     "slide_type": "slide"
    }
   },
   "outputs": [],
   "source": [
    "# select subset of data with a condition and assign it to new dataframe\n",
    "\n",
    "# we can also subselect only certain columns to be shown\n",
    "\n",
    "# ... or only select rows that fulfill a certain condition\n"
   ]
  },
  {
   "attachments": {
    "grafik.png": {
     "image/png": "[encoded data removed]"
    }
   },
   "cell_type": "markdown",
   "metadata": {
    "slideshow": {
     "slide_type": "slide"
    }
   },
   "source": [
    "### Descriptives statistics\n",
    "\n",
    "- Overview of pandas aggregation methods:\n",
    "<div>\n",
    "<img src=\"attachment:grafik.png\" width=\"450\"/>\n",
    "</div>"
   ]
  },
  {
   "cell_type": "code",
   "execution_count": null,
   "metadata": {
    "slideshow": {
     "slide_type": "slide"
    }
   },
   "outputs": [],
   "source": [
    "# Distribution of exits across departments\n",
    "\n",
    "# Mean age of exits\n",
    "\n",
    "# Mean age of exits across departments\n"
   ]
  },
  {
   "cell_type": "code",
   "execution_count": null,
   "metadata": {
    "slideshow": {
     "slide_type": "slide"
    }
   },
   "outputs": [],
   "source": [
    "# Creating new variables\n"
   ]
  },
  {
   "cell_type": "code",
   "execution_count": null,
   "metadata": {
    "slideshow": {
     "slide_type": "slide"
    }
   },
   "outputs": [],
   "source": [
    "# calculate percentage of employees that left the company\n"
   ]
  },
  {
   "cell_type": "code",
   "execution_count": null,
   "metadata": {
    "slideshow": {
     "slide_type": "slide"
    }
   },
   "outputs": [],
   "source": [
    "# alternatively using value_counts()\n"
   ]
  },
  {
   "cell_type": "code",
   "execution_count": null,
   "metadata": {
    "slideshow": {
     "slide_type": "slide"
    }
   },
   "outputs": [],
   "source": [
    "# with the groupby() function, we can split the dataset by categories and do calculations on these subgroups\n"
   ]
  },
  {
   "cell_type": "markdown",
   "metadata": {
    "slideshow": {
     "slide_type": "slide"
    }
   },
   "source": [
    "### 5.3 Visualization Libraries\n",
    "*Provide plotting and visualization support*\n",
    "#### Matplotlib Library\n",
    "\n",
    "- Original visualization library built on NumPy arrays\n",
    "- Conceived in 2002 to enable MATLAP-style plotting\n",
    "\n",
    "\n",
    "- We will only provide a quick overview, for more information see matplotlib documentation\n",
    "- https://matplotlib.org/3.1.1/gallery/index.html"
   ]
  },
  {
   "cell_type": "code",
   "execution_count": null,
   "metadata": {
    "slideshow": {
     "slide_type": "slide"
    }
   },
   "outputs": [],
   "source": [
    "import matplotlib.pyplot as plt"
   ]
  },
  {
   "cell_type": "code",
   "execution_count": null,
   "metadata": {
    "slideshow": {
     "slide_type": "slide"
    }
   },
   "outputs": [],
   "source": [
    "# Here we define the plotstyle to be used\n",
    "# check https://matplotlib.org/3.1.1/gallery/style_sheets/style_sheets_reference.html for an overview of style sheets\n"
   ]
  },
  {
   "cell_type": "code",
   "execution_count": null,
   "metadata": {
    "slideshow": {
     "slide_type": "slide"
    }
   },
   "outputs": [],
   "source": [
    "# There exist several \"magic functions\" in jupyter notebook which allow you additional operations\n",
    "%lsmagic"
   ]
  },
  {
   "cell_type": "code",
   "execution_count": null,
   "metadata": {
    "slideshow": {
     "slide_type": "slide"
    }
   },
   "outputs": [],
   "source": [
    "# ... one we will need is \"%matplotlib inline\" which enables matplotlib plots to be displayed directly in the notebook\n"
   ]
  },
  {
   "cell_type": "code",
   "execution_count": null,
   "metadata": {
    "scrolled": true,
    "slideshow": {
     "slide_type": "slide"
    }
   },
   "outputs": [],
   "source": [
    "# Histogram with frequencies\n"
   ]
  },
  {
   "cell_type": "code",
   "execution_count": null,
   "metadata": {
    "scrolled": true
   },
   "outputs": [],
   "source": [
    "# Histogram with probability density\n",
    "plt.hist(employee_data['Age'],density=True, alpha=0.5)\n",
    "plt.hist(exit_data['Age'],density=True, alpha=0.5)\n",
    "plt.xlabel('Age')"
   ]
  },
  {
   "cell_type": "code",
   "execution_count": null,
   "metadata": {},
   "outputs": [],
   "source": [
    "# We can also combine multiple plots with plt.subplot(#rows,#cols,i)\n",
    "\n",
    "plt.subplot(1,2,1)\n",
    "plt.hist(employee_data['Age'],density=True, color = 'red', alpha=0.5)\n",
    "plt.xlabel('Age (all)')\n",
    "plt.xlim(18,60)\n",
    "plt.ylim(0,0.06)\n",
    "\n",
    "plt.subplot(1,2,2)\n",
    "plt.hist(exit_data['Age'],density=True, color = 'blue', alpha=0.5)\n",
    "plt.xlabel('Age (exits)')\n",
    "plt.xlim(18,60)\n",
    "plt.ylim(0,0.06)"
   ]
  },
  {
   "cell_type": "code",
   "execution_count": null,
   "metadata": {
    "scrolled": true,
    "slideshow": {
     "slide_type": "slide"
    }
   },
   "outputs": [],
   "source": [
    "# Scatter plot example"
   ]
  },
  {
   "cell_type": "markdown",
   "metadata": {
    "slideshow": {
     "slide_type": "slide"
    }
   },
   "source": [
    "#### Seaborn Library\n",
    "\n",
    "- Newer library with more visually appealing and simpler to use toolkit\n",
    "- Better suited for visualizing DataFrame structures\n",
    "\n",
    "- Again, we only provide a quick overview, see documentation for more details\n",
    "- https://seaborn.pydata.org/examples/index.html"
   ]
  },
  {
   "cell_type": "code",
   "execution_count": null,
   "metadata": {
    "slideshow": {
     "slide_type": "slide"
    }
   },
   "outputs": [],
   "source": [
    "# import the package\n",
    "import seaborn as sns"
   ]
  },
  {
   "cell_type": "code",
   "execution_count": null,
   "metadata": {
    "scrolled": false
   },
   "outputs": [],
   "source": [
    "# Distribution plot with estimated PDF"
   ]
  },
  {
   "cell_type": "code",
   "execution_count": null,
   "metadata": {
    "scrolled": false,
    "slideshow": {
     "slide_type": "slide"
    }
   },
   "outputs": [],
   "source": [
    "# Overlaid distribution plot for different groups"
   ]
  },
  {
   "cell_type": "code",
   "execution_count": null,
   "metadata": {
    "scrolled": true,
    "slideshow": {
     "slide_type": "slide"
    }
   },
   "outputs": [],
   "source": [
    "# Seaborn Scatterplot with marker for different groups\n"
   ]
  },
  {
   "cell_type": "code",
   "execution_count": null,
   "metadata": {
    "scrolled": true,
    "slideshow": {
     "slide_type": "slide"
    }
   },
   "outputs": [],
   "source": [
    "# Scatterplot with estimated regression line"
   ]
  },
  {
   "cell_type": "code",
   "execution_count": null,
   "metadata": {
    "scrolled": false,
    "slideshow": {
     "slide_type": "slide"
    }
   },
   "outputs": [],
   "source": [
    "# Seaborn barplot"
   ]
  },
  {
   "cell_type": "markdown",
   "metadata": {
    "slideshow": {
     "slide_type": "slide"
    }
   },
   "source": [
    "### 5.4 Statsmodels Library\n",
    "*Provides many different statistical models, statistical tests, and statistical data exploration*\n",
    "\n",
    "- https://www.statsmodels.org/stable/index.html"
   ]
  },
  {
   "cell_type": "code",
   "execution_count": null,
   "metadata": {
    "slideshow": {
     "slide_type": "slide"
    }
   },
   "outputs": [],
   "source": [
    "# import the statsmodels libraries"
   ]
  },
  {
   "cell_type": "code",
   "execution_count": null,
   "metadata": {
    "slideshow": {
     "slide_type": "slide"
    }
   },
   "outputs": [],
   "source": [
    "# simple OLS regression with one explanatory variable"
   ]
  },
  {
   "cell_type": "code",
   "execution_count": null,
   "metadata": {
    "slideshow": {
     "slide_type": "slide"
    }
   },
   "outputs": [],
   "source": [
    "# OLS regression with several explanatory variables"
   ]
  },
  {
   "cell_type": "markdown",
   "metadata": {
    "slideshow": {
     "slide_type": "slide"
    }
   },
   "source": [
    "# 6. References and Further Readings\n",
    "\n",
    "- VanderPlas, Jake (2016): Python Data Science Handbook: Essential Tools for Working with Data. O'Reilly Media."
   ]
  }
 ],
 "metadata": {
  "celltoolbar": "Slideshow",
  "kernelspec": {
   "display_name": "Python 3",
   "language": "python",
   "name": "python3"
  },
  "language_info": {
   "codemirror_mode": {
    "name": "ipython",
    "version": 3
   },
   "file_extension": ".py",
   "mimetype": "text/x-python",
   "name": "python",
   "nbconvert_exporter": "python",
   "pygments_lexer": "ipython3",
   "version": "3.7.3"
  }
 },
 "nbformat": 4,
 "nbformat_minor": 2
}
