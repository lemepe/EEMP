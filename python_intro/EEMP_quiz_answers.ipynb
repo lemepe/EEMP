{
 "cells": [
  {
   "cell_type": "markdown",
   "metadata": {},
   "source": [
    "# EEMP - Python Quiz"
   ]
  },
  {
   "cell_type": "markdown",
   "metadata": {},
   "source": [
    "1. Import the following packages and alias them as we did before: \n",
    "    - *numpy, pandas, matplotlib, seaborn, statsmodels*"
   ]
  },
  {
   "cell_type": "code",
   "execution_count": null,
   "metadata": {},
   "outputs": [],
   "source": [
    "import numpy as np\n",
    "import pandas as pd\n",
    "import matplotlib.pyplot as plt\n",
    "import seaborn as sns\n",
    "import statsmodels.api as sm\n",
    "import statsmodels.formula.api as smf"
   ]
  },
  {
   "cell_type": "markdown",
   "metadata": {},
   "source": [
    "2. Read in the employee dataset, we were using before, saving as *employee_data*.\n",
    "    - Show the first 20 rows of the dataset. \n",
    "    - Before that, set the maximum number of columns to be displayed to 200 \n",
    "        - Hint: pd.set_option('display.max_columns', #cols)"
   ]
  },
  {
   "cell_type": "code",
   "execution_count": null,
   "metadata": {},
   "outputs": [],
   "source": [
    "path_to_data = \"https://raw.githubusercontent.com/lemepe/EEMP/master/python_intro/Employee_data.csv\"\n",
    "employee_data=pd.read_csv(path_to_data)\n",
    "\n",
    "pd.set_option('display.max_columns', 200)\n",
    "employee_data.head(20)"
   ]
  },
  {
   "cell_type": "markdown",
   "metadata": {},
   "source": [
    "3. Create a new dataset consisting of only employees that work in the \"Research & Development\" department, saving it as *employee_data_RD*.\n",
    "    - Print the shape, i.e. number of rows and columns, of this new dataset.\n",
    "    - Check that all observations of employees in this dataset are indeed working in the R&D department.\n",
    "        - Hint: using the *value_counts()* method is one way to check this."
   ]
  },
  {
   "cell_type": "code",
   "execution_count": null,
   "metadata": {},
   "outputs": [],
   "source": [
    "employee_data_RD = employee_data[employee_data['Department']==\"Research & Development\"]\n",
    "\n",
    "print(employee_data_RD.shape)\n",
    "\n",
    "employee_data_RD.Department.value_counts()"
   ]
  },
  {
   "cell_type": "markdown",
   "metadata": {},
   "source": [
    "4. Create a new variable *dummy_retained*, which indicates whether the employee is still with the employer.\n",
    "    - Hint: Attrition == 'No"
   ]
  },
  {
   "cell_type": "code",
   "execution_count": null,
   "metadata": {},
   "outputs": [],
   "source": [
    "employee_data_RD['dummy_retained'] = 0\n",
    "employee_data_RD.loc[(employee_data_RD['Attrition']=='No'),('dummy_retained')]=1\n",
    "\n",
    "employee_data_RD.shape # check the new shape (+1 column)"
   ]
  },
  {
   "cell_type": "markdown",
   "metadata": {},
   "source": [
    "5. Check the descriptive statistics of the *employee_data_RD* dataset.\n",
    "    - What is the min, max and mean monthly income of employees within this dataset?\n",
    "    - What is the mean job satisfaction and what is its standard deviation?\n",
    "    - How many employees within this dataset have left their employer?"
   ]
  },
  {
   "cell_type": "code",
   "execution_count": null,
   "metadata": {},
   "outputs": [],
   "source": [
    "employee_data_RD.describe()\n",
    "\n",
    "# Answer 1: min: 1009, max: 19999, mean: 6281\n",
    "# Answer 2: mean: 2.73, std: 1.1 (range 1-4)"
   ]
  },
  {
   "cell_type": "code",
   "execution_count": null,
   "metadata": {},
   "outputs": [],
   "source": [
    "employee_data_RD['dummy_retained'].value_counts() \n",
    "\n",
    "# Answer 3: 133 employees have left their employer"
   ]
  },
  {
   "cell_type": "markdown",
   "metadata": {},
   "source": [
    "4. Visualize\n",
    "    - The distribution of job satisfaction within the dataset.\n",
    "    - The distribution of job satisfaction within the dataset, separately for those who work overtime and thos who do not\n",
    "        - Hint: *OverTime == 'Yes\"*\n",
    "    - The correlation between job satisfaction and monthly income (also including a regression line)."
   ]
  },
  {
   "cell_type": "code",
   "execution_count": null,
   "metadata": {
    "scrolled": true
   },
   "outputs": [],
   "source": [
    "# Distribution of job satisfaction\n",
    "# with matplotlib\n",
    "plt.hist(employee_data_RD['JobSatisfaction'],bins=[0.5,1.5,2.5,3.5,4.5], rwidth = 0.8, align='mid', density=True, alpha=0.5)\n",
    "plt.xlabel('Job Satisfaction')\n",
    "plt.xticks([1,2,3,4])"
   ]
  },
  {
   "cell_type": "code",
   "execution_count": null,
   "metadata": {
    "scrolled": false
   },
   "outputs": [],
   "source": [
    "# with seaborn\n",
    "sns.distplot(employee_data_RD['JobSatisfaction'],axlabel='Job Satisfaction')"
   ]
  },
  {
   "cell_type": "code",
   "execution_count": null,
   "metadata": {
    "scrolled": true
   },
   "outputs": [],
   "source": [
    "# Distribution of job satisfaction, separately with/without overtime\n",
    "# with matplotlib\n",
    "plt.hist(employee_data_RD.loc[employee_data_RD['OverTime']=='No','JobSatisfaction'],bins=[0.5,1.5,2.5,3.5,4.5], rwidth = 0.5, align='mid', density=True, alpha=0.5)\n",
    "plt.hist(employee_data_RD.loc[employee_data_RD['OverTime']=='Yes','JobSatisfaction'],bins=[0.75,1.75,2.75,3.75,4.75], rwidth = 0.5, align='mid', density=True, alpha=0.5)\n",
    "plt.xlabel('Job Satisfaction')\n",
    "plt.xticks([1,2,3,4])"
   ]
  },
  {
   "cell_type": "code",
   "execution_count": null,
   "metadata": {},
   "outputs": [],
   "source": [
    "# with seaborn\n",
    "sns.distplot(employee_data[employee_data['OverTime']=='No']['JobSatisfaction'])\n",
    "sns.distplot(employee_data[employee_data['OverTime']=='Yes']['JobSatisfaction'],axlabel='Job satisfaction')"
   ]
  },
  {
   "cell_type": "code",
   "execution_count": null,
   "metadata": {},
   "outputs": [],
   "source": [
    "# Correlation job satisfaction and monthly income\n",
    "\n",
    "sns.regplot(x='JobSatisfaction',y='MonthlyIncome',data=employee_data_RD)"
   ]
  },
  {
   "cell_type": "markdown",
   "metadata": {},
   "source": [
    "5. Run a regression with your new variable *dummy_retained* as the response variable and your choice of potentially meaningful input variables (e.g. monthly income, overtime, job satisfaction etc.) to predict whether an employee will stay with her employer.\n",
    "    - Hint: Use *smf.logit()* as the response variable is discrete."
   ]
  },
  {
   "cell_type": "code",
   "execution_count": null,
   "metadata": {},
   "outputs": [],
   "source": [
    "# Logit regression to predict whether an employee stays\n",
    "results_logit = smf.logit('dummy_retained ~ MonthlyIncome + C(JobSatisfaction) + C(WorkLifeBalance) + C(OverTime) + TrainingTimesLastYear + C(MaritalStatus) + C(Gender)', data = employee_data_RD).fit()\n",
    "\n",
    "print(results_logit.summary())"
   ]
  }
 ],
 "metadata": {
  "kernelspec": {
   "display_name": "Python 3",
   "language": "python",
   "name": "python3"
  },
  "language_info": {
   "codemirror_mode": {
    "name": "ipython",
    "version": 3
   },
   "file_extension": ".py",
   "mimetype": "text/x-python",
   "name": "python",
   "nbconvert_exporter": "python",
   "pygments_lexer": "ipython3",
   "version": "3.7.3"
  }
 },
 "nbformat": 4,
 "nbformat_minor": 2
}
